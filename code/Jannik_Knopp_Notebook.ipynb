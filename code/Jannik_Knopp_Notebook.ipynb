{
  "nbformat": 4,
  "nbformat_minor": 0,
  "metadata": {
    "kernelspec": {
      "display_name": "Python 3",
      "language": "python",
      "name": "python3"
    },
    "language_info": {
      "codemirror_mode": {
        "name": "ipython",
        "version": 3
      },
      "file_extension": ".py",
      "mimetype": "text/x-python",
      "name": "python",
      "nbconvert_exporter": "python",
      "pygments_lexer": "ipython3",
      "version": "3.7.4"
    },
    "colab": {
      "name": "Jannik_Knopp_Notebook.ipynb",
      "provenance": [],
      "toc_visible": true
    }
  },
  "cells": [
    {
      "cell_type": "markdown",
      "metadata": {
        "id": "F1eV-l6t4Hkb"
      },
      "source": [
        "---\n",
        "## Note from the Teachers:\n",
        "We added a header with information about your project. \n",
        "This is useful since we want to keep a database of all the cool projects participants have made during the courses.\n",
        "We will save the code in our database and host on github a page to show all the projects. Therefore it is more practical to add some information in the header of each notebook.\n",
        "Thanks a lot for the understanding and for taking care of it.\n",
        "\n",
        "You can delete this cell if you want\n",
        "\n",
        "---"
      ]
    },
    {
      "cell_type": "markdown",
      "metadata": {
        "id": "6PYHLlbu4Hkc"
      },
      "source": [
        "# Project Name (replace with your project name)\n",
        "Project description (replace with your project description, you can use the same from the `INFO.md` file."
      ]
    },
    {
      "cell_type": "markdown",
      "metadata": {
        "id": "DNKyhW5L4Hkd"
      },
      "source": [
        "### Project Repo \n",
        "link (replace if you have your own repo, otherwise delete)"
      ]
    },
    {
      "cell_type": "markdown",
      "metadata": {
        "id": "LcG1J5wO4Hkd"
      },
      "source": [
        "## Participants:\n",
        "Please list here all the participants alongside with any information you may want to be visible. This will be hosted on a opencampus.sh repository, so if you want to keep a connection to your github user include this information here. "
      ]
    },
    {
      "cell_type": "markdown",
      "metadata": {
        "id": "kkqEtYQR4Hkd"
      },
      "source": [
        "### Course and Semester\n",
        "Add here in which course and in which semester it was done."
      ]
    },
    {
      "cell_type": "markdown",
      "metadata": {
        "id": "BjvWWsfn4Hke"
      },
      "source": [
        "### License\n",
        "If you are releasing the software under some certain license, you can mention it and also include the `LICENSE.md` file in the folder\n",
        "\n",
        "---"
      ]
    },
    {
      "cell_type": "code",
      "metadata": {
        "id": "nlunpm1f4Hke"
      },
      "source": [
        "# Here you can start your code! Thanks"
      ],
      "execution_count": null,
      "outputs": []
    },
    {
      "cell_type": "code",
      "metadata": {
        "id": "Z04RHKfM4Hke",
        "colab": {
          "base_uri": "https://localhost:8080/"
        },
        "outputId": "e044c580-946e-4e26-d550-a8d755962284"
      },
      "source": [
        "# Imports \n",
        "import os\n",
        "import pandas as pd\n"
      ],
      "execution_count": 13,
      "outputs": [
        {
          "output_type": "stream",
          "text": [
            "['.config', 'sales.csv', 'wheather.csv', 'kiwo.csv', 'sample_data']\n"
          ],
          "name": "stdout"
        }
      ]
    },
    {
      "cell_type": "code",
      "metadata": {
        "id": "v-K5Nnt74L2s"
      },
      "source": [
        "# import data\n",
        "# if you work in colab remember to include the data by hand again if you relaod or import the data from google drive\n",
        "sales = pd.read_csv(\"sales.csv\")\n",
        "wheather = pd.read_csv(\"wheather.csv\")\n",
        "kiwo = pd.read_csv(\"kiwo.csv\") "
      ],
      "execution_count": 17,
      "outputs": []
    },
    {
      "cell_type": "code",
      "metadata": {
        "id": "_k4O_7nh8fw5",
        "outputId": "e7e5714a-107f-4ece-93ad-d056119ce98f",
        "colab": {
          "base_uri": "https://localhost:8080/"
        }
      },
      "source": [
        "print(kiwo)"
      ],
      "execution_count": 34,
      "outputs": [
        {
          "output_type": "stream",
          "text": [
            "          Date  KielerWoche\n",
            "0   2012-06-16            1\n",
            "1   2012-06-17            1\n",
            "2   2012-06-18            1\n",
            "3   2012-06-19            1\n",
            "4   2012-06-20            1\n",
            "..         ...          ...\n",
            "67  2019-06-26            1\n",
            "68  2019-06-27            1\n",
            "69  2019-06-28            1\n",
            "70  2019-06-29            1\n",
            "71  2019-06-30            1\n",
            "\n",
            "[72 rows x 2 columns]\n"
          ],
          "name": "stdout"
        }
      ]
    },
    {
      "cell_type": "code",
      "metadata": {
        "id": "bYc-XA7J9IuD"
      },
      "source": [
        ""
      ],
      "execution_count": null,
      "outputs": []
    }
  ]
}